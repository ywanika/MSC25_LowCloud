{
 "cells": [
  {
   "cell_type": "code",
   "execution_count": 13,
   "id": "47d90512",
   "metadata": {},
   "outputs": [],
   "source": [
    "import pandas as pd\n",
    "import numpy as np\n",
    "import os"
   ]
  },
  {
   "cell_type": "code",
   "execution_count": 14,
   "id": "3d159041",
   "metadata": {},
   "outputs": [],
   "source": [
    "djf = [\"DEC\", \"JAN\", \"FEB\"]\n",
    "mam = [\"MAR\", \"APR\", \"MAY\"] \n",
    "jja = [\"JUN\", \"JUL\", \"AUG\"]\n",
    "son = [\"SEP\", \"OCT\", \"NOV\"]\n",
    "\n",
    "seasons = [djf, mam, jja, son]"
   ]
  },
  {
   "cell_type": "code",
   "execution_count": 16,
   "id": "475221df",
   "metadata": {},
   "outputs": [
    {
     "name": "stderr",
     "output_type": "stream",
     "text": [
      "/var/folders/4m/h1r7bv6s65ggpt8gzk616wyh0000gn/T/ipykernel_6388/765144485.py:36: RuntimeWarning: invalid value encountered in divide\n",
      "  counts_probOccurance_real = np.where(counts_LC <= 30, np.nan, counts_fog / counts_LC)\n"
     ]
    },
    {
     "name": "stdout",
     "output_type": "stream",
     "text": [
      "savedDJF1951\n"
     ]
    },
    {
     "name": "stderr",
     "output_type": "stream",
     "text": [
      "/var/folders/4m/h1r7bv6s65ggpt8gzk616wyh0000gn/T/ipykernel_6388/765144485.py:36: RuntimeWarning: invalid value encountered in divide\n",
      "  counts_probOccurance_real = np.where(counts_LC <= 30, np.nan, counts_fog / counts_LC)\n"
     ]
    },
    {
     "name": "stdout",
     "output_type": "stream",
     "text": [
      "savedMAM1951\n"
     ]
    },
    {
     "name": "stderr",
     "output_type": "stream",
     "text": [
      "/var/folders/4m/h1r7bv6s65ggpt8gzk616wyh0000gn/T/ipykernel_6388/765144485.py:36: RuntimeWarning: invalid value encountered in divide\n",
      "  counts_probOccurance_real = np.where(counts_LC <= 30, np.nan, counts_fog / counts_LC)\n"
     ]
    },
    {
     "name": "stdout",
     "output_type": "stream",
     "text": [
      "savedJJA1951\n"
     ]
    },
    {
     "name": "stderr",
     "output_type": "stream",
     "text": [
      "/var/folders/4m/h1r7bv6s65ggpt8gzk616wyh0000gn/T/ipykernel_6388/765144485.py:36: RuntimeWarning: invalid value encountered in divide\n",
      "  counts_probOccurance_real = np.where(counts_LC <= 30, np.nan, counts_fog / counts_LC)\n"
     ]
    },
    {
     "name": "stdout",
     "output_type": "stream",
     "text": [
      "savedSON1951\n"
     ]
    },
    {
     "name": "stderr",
     "output_type": "stream",
     "text": [
      "/var/folders/4m/h1r7bv6s65ggpt8gzk616wyh0000gn/T/ipykernel_6388/765144485.py:36: RuntimeWarning: invalid value encountered in divide\n",
      "  counts_probOccurance_real = np.where(counts_LC <= 30, np.nan, counts_fog / counts_LC)\n"
     ]
    },
    {
     "name": "stdout",
     "output_type": "stream",
     "text": [
      "savedDJF1956\n"
     ]
    },
    {
     "name": "stderr",
     "output_type": "stream",
     "text": [
      "/var/folders/4m/h1r7bv6s65ggpt8gzk616wyh0000gn/T/ipykernel_6388/765144485.py:36: RuntimeWarning: invalid value encountered in divide\n",
      "  counts_probOccurance_real = np.where(counts_LC <= 30, np.nan, counts_fog / counts_LC)\n"
     ]
    },
    {
     "name": "stdout",
     "output_type": "stream",
     "text": [
      "savedMAM1956\n"
     ]
    },
    {
     "name": "stderr",
     "output_type": "stream",
     "text": [
      "/var/folders/4m/h1r7bv6s65ggpt8gzk616wyh0000gn/T/ipykernel_6388/765144485.py:36: RuntimeWarning: invalid value encountered in divide\n",
      "  counts_probOccurance_real = np.where(counts_LC <= 30, np.nan, counts_fog / counts_LC)\n"
     ]
    },
    {
     "name": "stdout",
     "output_type": "stream",
     "text": [
      "savedJJA1956\n"
     ]
    },
    {
     "name": "stderr",
     "output_type": "stream",
     "text": [
      "/var/folders/4m/h1r7bv6s65ggpt8gzk616wyh0000gn/T/ipykernel_6388/765144485.py:36: RuntimeWarning: invalid value encountered in divide\n",
      "  counts_probOccurance_real = np.where(counts_LC <= 30, np.nan, counts_fog / counts_LC)\n"
     ]
    },
    {
     "name": "stdout",
     "output_type": "stream",
     "text": [
      "savedSON1956\n"
     ]
    },
    {
     "name": "stderr",
     "output_type": "stream",
     "text": [
      "/var/folders/4m/h1r7bv6s65ggpt8gzk616wyh0000gn/T/ipykernel_6388/765144485.py:36: RuntimeWarning: invalid value encountered in divide\n",
      "  counts_probOccurance_real = np.where(counts_LC <= 30, np.nan, counts_fog / counts_LC)\n"
     ]
    },
    {
     "name": "stdout",
     "output_type": "stream",
     "text": [
      "savedDJF1961\n"
     ]
    },
    {
     "name": "stderr",
     "output_type": "stream",
     "text": [
      "/var/folders/4m/h1r7bv6s65ggpt8gzk616wyh0000gn/T/ipykernel_6388/765144485.py:36: RuntimeWarning: invalid value encountered in divide\n",
      "  counts_probOccurance_real = np.where(counts_LC <= 30, np.nan, counts_fog / counts_LC)\n"
     ]
    },
    {
     "name": "stdout",
     "output_type": "stream",
     "text": [
      "savedMAM1961\n"
     ]
    },
    {
     "name": "stderr",
     "output_type": "stream",
     "text": [
      "/var/folders/4m/h1r7bv6s65ggpt8gzk616wyh0000gn/T/ipykernel_6388/765144485.py:36: RuntimeWarning: invalid value encountered in divide\n",
      "  counts_probOccurance_real = np.where(counts_LC <= 30, np.nan, counts_fog / counts_LC)\n"
     ]
    },
    {
     "name": "stdout",
     "output_type": "stream",
     "text": [
      "savedJJA1961\n"
     ]
    },
    {
     "name": "stderr",
     "output_type": "stream",
     "text": [
      "/var/folders/4m/h1r7bv6s65ggpt8gzk616wyh0000gn/T/ipykernel_6388/765144485.py:36: RuntimeWarning: invalid value encountered in divide\n",
      "  counts_probOccurance_real = np.where(counts_LC <= 30, np.nan, counts_fog / counts_LC)\n"
     ]
    },
    {
     "name": "stdout",
     "output_type": "stream",
     "text": [
      "savedSON1961\n"
     ]
    },
    {
     "name": "stderr",
     "output_type": "stream",
     "text": [
      "/var/folders/4m/h1r7bv6s65ggpt8gzk616wyh0000gn/T/ipykernel_6388/765144485.py:36: RuntimeWarning: invalid value encountered in divide\n",
      "  counts_probOccurance_real = np.where(counts_LC <= 30, np.nan, counts_fog / counts_LC)\n"
     ]
    },
    {
     "name": "stdout",
     "output_type": "stream",
     "text": [
      "savedDJF1966\n"
     ]
    },
    {
     "name": "stderr",
     "output_type": "stream",
     "text": [
      "/var/folders/4m/h1r7bv6s65ggpt8gzk616wyh0000gn/T/ipykernel_6388/765144485.py:36: RuntimeWarning: invalid value encountered in divide\n",
      "  counts_probOccurance_real = np.where(counts_LC <= 30, np.nan, counts_fog / counts_LC)\n"
     ]
    },
    {
     "name": "stdout",
     "output_type": "stream",
     "text": [
      "savedMAM1966\n"
     ]
    },
    {
     "name": "stderr",
     "output_type": "stream",
     "text": [
      "/var/folders/4m/h1r7bv6s65ggpt8gzk616wyh0000gn/T/ipykernel_6388/765144485.py:36: RuntimeWarning: invalid value encountered in divide\n",
      "  counts_probOccurance_real = np.where(counts_LC <= 30, np.nan, counts_fog / counts_LC)\n"
     ]
    },
    {
     "name": "stdout",
     "output_type": "stream",
     "text": [
      "savedJJA1966\n"
     ]
    },
    {
     "name": "stderr",
     "output_type": "stream",
     "text": [
      "/var/folders/4m/h1r7bv6s65ggpt8gzk616wyh0000gn/T/ipykernel_6388/765144485.py:36: RuntimeWarning: invalid value encountered in divide\n",
      "  counts_probOccurance_real = np.where(counts_LC <= 30, np.nan, counts_fog / counts_LC)\n"
     ]
    },
    {
     "name": "stdout",
     "output_type": "stream",
     "text": [
      "savedSON1966\n"
     ]
    },
    {
     "name": "stderr",
     "output_type": "stream",
     "text": [
      "/var/folders/4m/h1r7bv6s65ggpt8gzk616wyh0000gn/T/ipykernel_6388/765144485.py:36: RuntimeWarning: invalid value encountered in divide\n",
      "  counts_probOccurance_real = np.where(counts_LC <= 30, np.nan, counts_fog / counts_LC)\n"
     ]
    },
    {
     "name": "stdout",
     "output_type": "stream",
     "text": [
      "savedDJF1971\n"
     ]
    },
    {
     "name": "stderr",
     "output_type": "stream",
     "text": [
      "/var/folders/4m/h1r7bv6s65ggpt8gzk616wyh0000gn/T/ipykernel_6388/765144485.py:36: RuntimeWarning: invalid value encountered in divide\n",
      "  counts_probOccurance_real = np.where(counts_LC <= 30, np.nan, counts_fog / counts_LC)\n"
     ]
    },
    {
     "name": "stdout",
     "output_type": "stream",
     "text": [
      "savedMAM1971\n"
     ]
    },
    {
     "name": "stderr",
     "output_type": "stream",
     "text": [
      "/var/folders/4m/h1r7bv6s65ggpt8gzk616wyh0000gn/T/ipykernel_6388/765144485.py:36: RuntimeWarning: invalid value encountered in divide\n",
      "  counts_probOccurance_real = np.where(counts_LC <= 30, np.nan, counts_fog / counts_LC)\n"
     ]
    },
    {
     "name": "stdout",
     "output_type": "stream",
     "text": [
      "savedJJA1971\n"
     ]
    },
    {
     "name": "stderr",
     "output_type": "stream",
     "text": [
      "/var/folders/4m/h1r7bv6s65ggpt8gzk616wyh0000gn/T/ipykernel_6388/765144485.py:36: RuntimeWarning: invalid value encountered in divide\n",
      "  counts_probOccurance_real = np.where(counts_LC <= 30, np.nan, counts_fog / counts_LC)\n"
     ]
    },
    {
     "name": "stdout",
     "output_type": "stream",
     "text": [
      "savedSON1971\n"
     ]
    },
    {
     "name": "stderr",
     "output_type": "stream",
     "text": [
      "/var/folders/4m/h1r7bv6s65ggpt8gzk616wyh0000gn/T/ipykernel_6388/765144485.py:36: RuntimeWarning: invalid value encountered in divide\n",
      "  counts_probOccurance_real = np.where(counts_LC <= 30, np.nan, counts_fog / counts_LC)\n"
     ]
    },
    {
     "name": "stdout",
     "output_type": "stream",
     "text": [
      "savedDJF1976\n"
     ]
    },
    {
     "name": "stderr",
     "output_type": "stream",
     "text": [
      "/var/folders/4m/h1r7bv6s65ggpt8gzk616wyh0000gn/T/ipykernel_6388/765144485.py:36: RuntimeWarning: invalid value encountered in divide\n",
      "  counts_probOccurance_real = np.where(counts_LC <= 30, np.nan, counts_fog / counts_LC)\n"
     ]
    },
    {
     "name": "stdout",
     "output_type": "stream",
     "text": [
      "savedMAM1976\n"
     ]
    },
    {
     "name": "stderr",
     "output_type": "stream",
     "text": [
      "/var/folders/4m/h1r7bv6s65ggpt8gzk616wyh0000gn/T/ipykernel_6388/765144485.py:36: RuntimeWarning: invalid value encountered in divide\n",
      "  counts_probOccurance_real = np.where(counts_LC <= 30, np.nan, counts_fog / counts_LC)\n"
     ]
    },
    {
     "name": "stdout",
     "output_type": "stream",
     "text": [
      "savedJJA1976\n"
     ]
    },
    {
     "name": "stderr",
     "output_type": "stream",
     "text": [
      "/var/folders/4m/h1r7bv6s65ggpt8gzk616wyh0000gn/T/ipykernel_6388/765144485.py:36: RuntimeWarning: invalid value encountered in divide\n",
      "  counts_probOccurance_real = np.where(counts_LC <= 30, np.nan, counts_fog / counts_LC)\n"
     ]
    },
    {
     "name": "stdout",
     "output_type": "stream",
     "text": [
      "savedSON1976\n"
     ]
    },
    {
     "name": "stderr",
     "output_type": "stream",
     "text": [
      "/var/folders/4m/h1r7bv6s65ggpt8gzk616wyh0000gn/T/ipykernel_6388/765144485.py:36: RuntimeWarning: invalid value encountered in divide\n",
      "  counts_probOccurance_real = np.where(counts_LC <= 30, np.nan, counts_fog / counts_LC)\n"
     ]
    },
    {
     "name": "stdout",
     "output_type": "stream",
     "text": [
      "savedDJF1981\n"
     ]
    },
    {
     "name": "stderr",
     "output_type": "stream",
     "text": [
      "/var/folders/4m/h1r7bv6s65ggpt8gzk616wyh0000gn/T/ipykernel_6388/765144485.py:36: RuntimeWarning: invalid value encountered in divide\n",
      "  counts_probOccurance_real = np.where(counts_LC <= 30, np.nan, counts_fog / counts_LC)\n"
     ]
    },
    {
     "name": "stdout",
     "output_type": "stream",
     "text": [
      "savedMAM1981\n"
     ]
    },
    {
     "name": "stderr",
     "output_type": "stream",
     "text": [
      "/var/folders/4m/h1r7bv6s65ggpt8gzk616wyh0000gn/T/ipykernel_6388/765144485.py:36: RuntimeWarning: invalid value encountered in divide\n",
      "  counts_probOccurance_real = np.where(counts_LC <= 30, np.nan, counts_fog / counts_LC)\n"
     ]
    },
    {
     "name": "stdout",
     "output_type": "stream",
     "text": [
      "savedJJA1981\n"
     ]
    },
    {
     "name": "stderr",
     "output_type": "stream",
     "text": [
      "/var/folders/4m/h1r7bv6s65ggpt8gzk616wyh0000gn/T/ipykernel_6388/765144485.py:36: RuntimeWarning: invalid value encountered in divide\n",
      "  counts_probOccurance_real = np.where(counts_LC <= 30, np.nan, counts_fog / counts_LC)\n"
     ]
    },
    {
     "name": "stdout",
     "output_type": "stream",
     "text": [
      "savedSON1981\n"
     ]
    },
    {
     "name": "stderr",
     "output_type": "stream",
     "text": [
      "/var/folders/4m/h1r7bv6s65ggpt8gzk616wyh0000gn/T/ipykernel_6388/765144485.py:36: RuntimeWarning: invalid value encountered in divide\n",
      "  counts_probOccurance_real = np.where(counts_LC <= 30, np.nan, counts_fog / counts_LC)\n"
     ]
    },
    {
     "name": "stdout",
     "output_type": "stream",
     "text": [
      "savedDJF1986\n"
     ]
    },
    {
     "name": "stderr",
     "output_type": "stream",
     "text": [
      "/var/folders/4m/h1r7bv6s65ggpt8gzk616wyh0000gn/T/ipykernel_6388/765144485.py:36: RuntimeWarning: invalid value encountered in divide\n",
      "  counts_probOccurance_real = np.where(counts_LC <= 30, np.nan, counts_fog / counts_LC)\n"
     ]
    },
    {
     "name": "stdout",
     "output_type": "stream",
     "text": [
      "savedMAM1986\n"
     ]
    },
    {
     "name": "stderr",
     "output_type": "stream",
     "text": [
      "/var/folders/4m/h1r7bv6s65ggpt8gzk616wyh0000gn/T/ipykernel_6388/765144485.py:36: RuntimeWarning: invalid value encountered in divide\n",
      "  counts_probOccurance_real = np.where(counts_LC <= 30, np.nan, counts_fog / counts_LC)\n"
     ]
    },
    {
     "name": "stdout",
     "output_type": "stream",
     "text": [
      "savedJJA1986\n"
     ]
    },
    {
     "name": "stderr",
     "output_type": "stream",
     "text": [
      "/var/folders/4m/h1r7bv6s65ggpt8gzk616wyh0000gn/T/ipykernel_6388/765144485.py:36: RuntimeWarning: invalid value encountered in divide\n",
      "  counts_probOccurance_real = np.where(counts_LC <= 30, np.nan, counts_fog / counts_LC)\n"
     ]
    },
    {
     "name": "stdout",
     "output_type": "stream",
     "text": [
      "savedSON1986\n"
     ]
    },
    {
     "name": "stderr",
     "output_type": "stream",
     "text": [
      "/var/folders/4m/h1r7bv6s65ggpt8gzk616wyh0000gn/T/ipykernel_6388/765144485.py:36: RuntimeWarning: invalid value encountered in divide\n",
      "  counts_probOccurance_real = np.where(counts_LC <= 30, np.nan, counts_fog / counts_LC)\n"
     ]
    },
    {
     "name": "stdout",
     "output_type": "stream",
     "text": [
      "savedDJF1991\n"
     ]
    },
    {
     "name": "stderr",
     "output_type": "stream",
     "text": [
      "/var/folders/4m/h1r7bv6s65ggpt8gzk616wyh0000gn/T/ipykernel_6388/765144485.py:36: RuntimeWarning: invalid value encountered in divide\n",
      "  counts_probOccurance_real = np.where(counts_LC <= 30, np.nan, counts_fog / counts_LC)\n"
     ]
    },
    {
     "name": "stdout",
     "output_type": "stream",
     "text": [
      "savedMAM1991\n"
     ]
    },
    {
     "name": "stderr",
     "output_type": "stream",
     "text": [
      "/var/folders/4m/h1r7bv6s65ggpt8gzk616wyh0000gn/T/ipykernel_6388/765144485.py:36: RuntimeWarning: invalid value encountered in divide\n",
      "  counts_probOccurance_real = np.where(counts_LC <= 30, np.nan, counts_fog / counts_LC)\n"
     ]
    },
    {
     "name": "stdout",
     "output_type": "stream",
     "text": [
      "savedJJA1991\n"
     ]
    },
    {
     "name": "stderr",
     "output_type": "stream",
     "text": [
      "/var/folders/4m/h1r7bv6s65ggpt8gzk616wyh0000gn/T/ipykernel_6388/765144485.py:36: RuntimeWarning: invalid value encountered in divide\n",
      "  counts_probOccurance_real = np.where(counts_LC <= 30, np.nan, counts_fog / counts_LC)\n"
     ]
    },
    {
     "name": "stdout",
     "output_type": "stream",
     "text": [
      "savedSON1991\n"
     ]
    },
    {
     "name": "stderr",
     "output_type": "stream",
     "text": [
      "/var/folders/4m/h1r7bv6s65ggpt8gzk616wyh0000gn/T/ipykernel_6388/765144485.py:36: RuntimeWarning: invalid value encountered in divide\n",
      "  counts_probOccurance_real = np.where(counts_LC <= 30, np.nan, counts_fog / counts_LC)\n"
     ]
    },
    {
     "name": "stdout",
     "output_type": "stream",
     "text": [
      "savedDJF1996\n"
     ]
    },
    {
     "name": "stderr",
     "output_type": "stream",
     "text": [
      "/var/folders/4m/h1r7bv6s65ggpt8gzk616wyh0000gn/T/ipykernel_6388/765144485.py:36: RuntimeWarning: invalid value encountered in divide\n",
      "  counts_probOccurance_real = np.where(counts_LC <= 30, np.nan, counts_fog / counts_LC)\n"
     ]
    },
    {
     "name": "stdout",
     "output_type": "stream",
     "text": [
      "savedMAM1996\n"
     ]
    },
    {
     "name": "stderr",
     "output_type": "stream",
     "text": [
      "/var/folders/4m/h1r7bv6s65ggpt8gzk616wyh0000gn/T/ipykernel_6388/765144485.py:36: RuntimeWarning: invalid value encountered in divide\n",
      "  counts_probOccurance_real = np.where(counts_LC <= 30, np.nan, counts_fog / counts_LC)\n"
     ]
    },
    {
     "name": "stdout",
     "output_type": "stream",
     "text": [
      "savedJJA1996\n"
     ]
    },
    {
     "name": "stderr",
     "output_type": "stream",
     "text": [
      "/var/folders/4m/h1r7bv6s65ggpt8gzk616wyh0000gn/T/ipykernel_6388/765144485.py:36: RuntimeWarning: invalid value encountered in divide\n",
      "  counts_probOccurance_real = np.where(counts_LC <= 30, np.nan, counts_fog / counts_LC)\n"
     ]
    },
    {
     "name": "stdout",
     "output_type": "stream",
     "text": [
      "savedSON1996\n"
     ]
    },
    {
     "name": "stderr",
     "output_type": "stream",
     "text": [
      "/var/folders/4m/h1r7bv6s65ggpt8gzk616wyh0000gn/T/ipykernel_6388/765144485.py:36: RuntimeWarning: invalid value encountered in divide\n",
      "  counts_probOccurance_real = np.where(counts_LC <= 30, np.nan, counts_fog / counts_LC)\n"
     ]
    },
    {
     "name": "stdout",
     "output_type": "stream",
     "text": [
      "savedDJF2001\n"
     ]
    },
    {
     "name": "stderr",
     "output_type": "stream",
     "text": [
      "/var/folders/4m/h1r7bv6s65ggpt8gzk616wyh0000gn/T/ipykernel_6388/765144485.py:36: RuntimeWarning: invalid value encountered in divide\n",
      "  counts_probOccurance_real = np.where(counts_LC <= 30, np.nan, counts_fog / counts_LC)\n"
     ]
    },
    {
     "name": "stdout",
     "output_type": "stream",
     "text": [
      "savedMAM2001\n"
     ]
    },
    {
     "name": "stderr",
     "output_type": "stream",
     "text": [
      "/var/folders/4m/h1r7bv6s65ggpt8gzk616wyh0000gn/T/ipykernel_6388/765144485.py:36: RuntimeWarning: invalid value encountered in divide\n",
      "  counts_probOccurance_real = np.where(counts_LC <= 30, np.nan, counts_fog / counts_LC)\n"
     ]
    },
    {
     "name": "stdout",
     "output_type": "stream",
     "text": [
      "savedJJA2001\n"
     ]
    },
    {
     "name": "stderr",
     "output_type": "stream",
     "text": [
      "/var/folders/4m/h1r7bv6s65ggpt8gzk616wyh0000gn/T/ipykernel_6388/765144485.py:36: RuntimeWarning: invalid value encountered in divide\n",
      "  counts_probOccurance_real = np.where(counts_LC <= 30, np.nan, counts_fog / counts_LC)\n"
     ]
    },
    {
     "name": "stdout",
     "output_type": "stream",
     "text": [
      "savedSON2001\n"
     ]
    },
    {
     "name": "stderr",
     "output_type": "stream",
     "text": [
      "/var/folders/4m/h1r7bv6s65ggpt8gzk616wyh0000gn/T/ipykernel_6388/765144485.py:36: RuntimeWarning: invalid value encountered in divide\n",
      "  counts_probOccurance_real = np.where(counts_LC <= 30, np.nan, counts_fog / counts_LC)\n"
     ]
    },
    {
     "name": "stdout",
     "output_type": "stream",
     "text": [
      "savedDJF2006\n"
     ]
    },
    {
     "name": "stderr",
     "output_type": "stream",
     "text": [
      "/var/folders/4m/h1r7bv6s65ggpt8gzk616wyh0000gn/T/ipykernel_6388/765144485.py:36: RuntimeWarning: invalid value encountered in divide\n",
      "  counts_probOccurance_real = np.where(counts_LC <= 30, np.nan, counts_fog / counts_LC)\n"
     ]
    },
    {
     "name": "stdout",
     "output_type": "stream",
     "text": [
      "savedMAM2006\n"
     ]
    },
    {
     "name": "stderr",
     "output_type": "stream",
     "text": [
      "/var/folders/4m/h1r7bv6s65ggpt8gzk616wyh0000gn/T/ipykernel_6388/765144485.py:36: RuntimeWarning: invalid value encountered in divide\n",
      "  counts_probOccurance_real = np.where(counts_LC <= 30, np.nan, counts_fog / counts_LC)\n"
     ]
    },
    {
     "name": "stdout",
     "output_type": "stream",
     "text": [
      "savedJJA2006\n",
      "savedSON2006\n"
     ]
    },
    {
     "name": "stderr",
     "output_type": "stream",
     "text": [
      "/var/folders/4m/h1r7bv6s65ggpt8gzk616wyh0000gn/T/ipykernel_6388/765144485.py:36: RuntimeWarning: invalid value encountered in divide\n",
      "  counts_probOccurance_real = np.where(counts_LC <= 30, np.nan, counts_fog / counts_LC)\n"
     ]
    }
   ],
   "source": [
    "path = \"data/EECRA/ocean_seasonal/\"\n",
    "\n",
    "seasonalFiles = os.listdir(path)\n",
    "    \n",
    "for strtYr in range (1951, 2009, 5): \n",
    "    endYr = strtYr + 5 #exclusive\n",
    "    \n",
    "    for season in seasons: \n",
    "        files = []\n",
    "        seasonName = season[0][0]+season[1][0]+season[2][0]\n",
    "        \n",
    "        for yr in range (strtYr, endYr): #iterating on all years' seasons in each 5yr chunk\n",
    "            fn = \"df_\" + seasonName + str(yr) + \".csv\"\n",
    "            if fn in seasonalFiles: files.append(path + fn)\n",
    "            \n",
    "        df_5yr = pd.concat(map(pd.read_csv, files))\n",
    "        \n",
    "        #calculate fog probability of occurance over 5 yrs of season\n",
    "        \n",
    "        df_total = df_5yr.loc[df_5yr[\"CL\"].notna()]\n",
    "        lat_total = df_total['Lat']\n",
    "        lon_total = df_total['Lon'] \n",
    "\n",
    "        df_fog= df_5yr.loc[df_5yr[\"CL\"] == 11]\n",
    "        lat_fog = df_fog['Lat'] # -90 to 90\n",
    "        lon_fog = df_fog['Lon'] # 0 - 360\n",
    "        \n",
    "        lat_bins = np.arange(-90, 91, 5)\n",
    "        lon_bins = np.arange(0, 361, 5)\n",
    "        \n",
    "        #counts of LC observations\n",
    "        counts_LC, _, _ = np.histogram2d(lat_total, lon_total, bins=[lat_bins, lon_bins])\n",
    "        #counts of fog\n",
    "        counts_fog, _, _ = np.histogram2d(lat_fog, lon_fog, bins=[lat_bins, lon_bins])\n",
    "        #where there are less than 30 LC observations over 5yr, the value is nan\n",
    "        counts_probOccurance_real = np.where(counts_LC <= 30, np.nan, counts_fog / counts_LC)\n",
    "        \n",
    "        np.savetxt(\"data/EECRA/5yr_seasonal/counts_\"+seasonName+str(strtYr)+\".csv\", counts_probOccurance_real, delimiter=\",\")\n",
    "        print (\"saved\"+seasonName+str(strtYr))\n",
    "        \n",
    "        "
   ]
  }
 ],
 "metadata": {
  "kernelspec": {
   "display_name": "Python 3",
   "language": "python",
   "name": "python3"
  },
  "language_info": {
   "codemirror_mode": {
    "name": "ipython",
    "version": 3
   },
   "file_extension": ".py",
   "mimetype": "text/x-python",
   "name": "python",
   "nbconvert_exporter": "python",
   "pygments_lexer": "ipython3",
   "version": "3.13.5"
  }
 },
 "nbformat": 4,
 "nbformat_minor": 5
}
