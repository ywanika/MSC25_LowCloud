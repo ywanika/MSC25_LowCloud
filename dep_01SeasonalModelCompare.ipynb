{
 "cells": [
  {
   "cell_type": "code",
   "execution_count": 2,
   "metadata": {},
   "outputs": [],
   "source": [
    "import xarray as xr\n",
    "import os\n",
    "from datetime import timedelta\n",
    "import matplotlib.pyplot as plt"
   ]
  },
  {
   "cell_type": "code",
   "execution_count": 3,
   "metadata": {},
   "outputs": [],
   "source": [
    "path = '//Users/anka/Desktop/research/msc25/data'"
   ]
  },
  {
   "cell_type": "code",
   "execution_count": 4,
   "metadata": {},
   "outputs": [],
   "source": [
    "#load cesm std res model\n",
    "\n",
    "file = 'cesm_StdModel/b.e11.B20TRLENS_RCP85.f09_g16.xaer.002.cam.h0.CLOUD.192001-200512.nc'\n",
    "\n",
    "lens = xr.open_dataset(os.path.join(path, file))\n",
    "lens['time'] = lens.time.get_index('time') - timedelta(days=16) # correct time in the file, it should starts from Jan\n",
    "# ds = ds.convert_calendar('standard')"
   ]
  },
  {
   "cell_type": "code",
   "execution_count": null,
   "metadata": {},
   "outputs": [],
   "source": [
    "#select low clouds, create a month and yr coord, and select 1940 - 2005\n",
    "\n",
    "lensCloud = lens.CLOUD.where(lens.CLOUD.lev >= 800, drop=True)\n",
    "lensCloud = lensCloud.sum(dim='lev')\n",
    "lensCloud = lensCloud.assign_coords(month=(\"time\", lensCloud['time'].dt.month.data))\n",
    "lensCloud = lensCloud.assign_coords(year=(\"time\", lensCloud['time'].dt.year.data))\n",
    "lensCloud = lensCloud.where(lensCloud.year >= 1940, drop=True)\n",
    "lensCloud"
   ]
  },
  {
   "cell_type": "code",
   "execution_count": null,
   "metadata": {},
   "outputs": [],
   "source": [
    "#load era5 obvs\n",
    "\n",
    "file = 'ERA5/data_stream-moda_stepType-avgua.nc'\n",
    "\n",
    "era5 = xr.open_dataset(os.path.join(path, file))\n",
    "era5"
   ]
  },
  {
   "cell_type": "code",
   "execution_count": null,
   "metadata": {},
   "outputs": [],
   "source": [
    "#create a month and yr coord, and select 1940 - 2005, rename coor for consistancy, reverse\n",
    "era5Cloud = era5.lcc.where(era5.lcc.valid_time.dt.year <= 2005, drop = True)\n",
    "era5Cloud = era5Cloud.assign_coords(month=(\"valid_time\", era5Cloud.valid_time.dt.month.data))\n",
    "era5Cloud = era5Cloud.assign_coords(year=(\"valid_time\", era5Cloud.valid_time.dt.year.data))\n",
    "era5Cloud = era5Cloud.rename({'valid_time': 'time'})\n",
    "era5Cloud = era5Cloud.rename({'latitude': 'lat'})\n",
    "era5Cloud = era5Cloud.rename({'longitude': 'lon'})\n",
    "\n",
    "era5Cloud"
   ]
  },
  {
   "cell_type": "code",
   "execution_count": 8,
   "metadata": {},
   "outputs": [],
   "source": [
    "def select_season(data, months, season_name):\n",
    "    # Filter by month\n",
    "    season_data = data.where(data.month.isin(months), drop=True)\n",
    "    \n",
    "    # For DJF, we need to handle the year roll\n",
    "    if season_name == 'DJF':\n",
    "        # Drop December of the last year to avoid incomplete season\n",
    "        season_data = season_data.sel(time=season_data['time'].dt.month != 12) if season_data.time[-1].dt.month == 12 else season_data\n",
    "        \n",
    "    return season_data"
   ]
  },
  {
   "cell_type": "code",
   "execution_count": null,
   "metadata": {},
   "outputs": [],
   "source": [
    "lensCloud.mean('time').plot()"
   ]
  },
  {
   "cell_type": "code",
   "execution_count": null,
   "metadata": {},
   "outputs": [],
   "source": [
    "era5Cloud.mean('time').plot()\n",
    "era5Cloud"
   ]
  },
  {
   "cell_type": "code",
   "execution_count": null,
   "metadata": {},
   "outputs": [],
   "source": [
    "djf = select_season(era5Cloud, [12, 1, 2], \"DJF\").mean(\"time\")\n",
    "mam = select_season(era5Cloud, [3, 4, 5], \"MAM\").mean(\"time\")\n",
    "jja = select_season(era5Cloud, [6, 7, 8], \"JJA\").mean(\"time\")\n",
    "son = select_season(era5Cloud, [9, 10, 11], \"SON\").mean(\"time\")\n",
    "djf"
   ]
  },
  {
   "cell_type": "code",
   "execution_count": null,
   "metadata": {},
   "outputs": [],
   "source": [
    "djf.imshow(djf.values, origin='lower')"
   ]
  },
  {
   "cell_type": "code",
   "execution_count": null,
   "metadata": {},
   "outputs": [],
   "source": [
    "djf_data = djf.values\n",
    "mam_data = mam.values\n",
    "jja_data = jja.values\n",
    "son_data = son.values\n",
    "\n",
    "fig, axs = plt.subplots(2, 2, figsize=(12, 8), constrained_layout=True)\n",
    "fig.suptitle(\"ERA5\")\n",
    "\n",
    "# Set shared color range (optional)\n",
    "vmin = min(djf_data.min(), mam_data.min(), jja_data.min(), son_data.min())\n",
    "vmax = max(djf_data.max(), mam_data.max(), jja_data.max(), son_data.max())\n",
    "\n",
    "# Plot manually\n",
    "im0 = axs[0, 0].imshow(djf_data, origin='lower', vmin=vmin, vmax=vmax)\n",
    "axs[0, 0].set_title(\"DJF\")\n",
    "\n",
    "im1 = axs[0, 1].imshow(mam_data, origin='lower', vmin=vmin, vmax=vmax)\n",
    "axs[0, 1].set_title(\"MAM\")\n",
    "\n",
    "im2 = axs[1, 0].imshow(jja_data, origin='lower', vmin=vmin, vmax=vmax)\n",
    "axs[1, 0].set_title(\"JJA\")\n",
    "\n",
    "im3 = axs[1, 1].imshow(son_data, origin='lower', vmin=vmin, vmax=vmax)\n",
    "axs[1, 1].set_title(\"SON\")\n",
    "\n",
    "fig.colorbar(im0, ax=axs, orientation='vertical', fraction=0.03, pad=0.02, label='Cloud (mean)')\n",
    "\n",
    "plt.show()"
   ]
  }
 ],
 "metadata": {
  "kernelspec": {
   "display_name": "Python 3",
   "language": "python",
   "name": "python3"
  },
  "language_info": {
   "codemirror_mode": {
    "name": "ipython",
    "version": 3
   },
   "file_extension": ".py",
   "mimetype": "text/x-python",
   "name": "python",
   "nbconvert_exporter": "python",
   "pygments_lexer": "ipython3",
   "version": "3.9.5"
  }
 },
 "nbformat": 4,
 "nbformat_minor": 2
}
